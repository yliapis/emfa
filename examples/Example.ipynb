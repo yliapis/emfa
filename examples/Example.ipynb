{
 "cells": [
  {
   "cell_type": "code",
   "execution_count": 1,
   "metadata": {
    "collapsed": true
   },
   "outputs": [],
   "source": [
    "%matplotlib inline\n",
    "%load_ext autoreload\n",
    "%autoreload 2\n",
    "\n",
    "import matplotlib.pyplot as plt\n",
    "import numpy as np\n",
    "from scipy import stats\n",
    "\n",
    "from FactorAnalyzer import FactorAnalyzer"
   ]
  },
  {
   "cell_type": "markdown",
   "metadata": {},
   "source": [
    "### Let's first generate some synthetic data"
   ]
  },
  {
   "cell_type": "code",
   "execution_count": 17,
   "metadata": {
    "collapsed": true
   },
   "outputs": [],
   "source": [
    "dist = stats.norm\n",
    "\n",
    "n = 10**7\n",
    "k = 2\n",
    "p = 7\n",
    "\n",
    "Z = dist.rvs(size=n*k).reshape(-1,2)\n",
    "\n",
    "L = np.zeros((p,k))\n",
    "v = np.linspace(0,10,p)\n",
    "\n",
    "L[:,0] = v\n",
    "L[:,1] = v[::-1]\n",
    "    \n",
    "Nu = dist.rvs(size=n * p).reshape(-1,p)\n",
    "Psi_diag = np.ones(p) * .002\n",
    "Nu = Nu * Psi_diag\n",
    "\n",
    "X = (L @ Z.T).T + Nu"
   ]
  },
  {
   "cell_type": "code",
   "execution_count": 18,
   "metadata": {
    "collapsed": false
   },
   "outputs": [
    {
     "data": {
      "text/plain": [
       "[<matplotlib.lines.Line2D at 0x7f29d2b3e978>]"
      ]
     },
     "execution_count": 18,
     "metadata": {},
     "output_type": "execute_result"
    },
    {
     "data": {
      "image/png": "[encoded data removed]",
      "text/plain": [
       "<matplotlib.figure.Figure at 0x7f29d2b3ec88>"
      ]
     },
     "metadata": {},
     "output_type": "display_data"
    }
   ],
   "source": [
    "L0, L1 = L.T\n",
    "plt.plot(L0)\n",
    "plt.plot(L1)"
   ]
  },
  {
   "cell_type": "markdown",
   "metadata": {},
   "source": [
    "### Fitting data to generative model\n",
    "\n",
    "$$\\mathbf{x} = \\mathbf{\\Lambda{z}}+\\mathbf{u}$$"
   ]
  },
  {
   "cell_type": "code",
   "execution_count": 19,
   "metadata": {
    "collapsed": false
   },
   "outputs": [
    {
     "name": "stdout",
     "output_type": "stream",
     "text": [
      "cycle 1, log-likelihood -4.022680570514894e+19\n",
      "cycle 2, log-likelihood -4.022677754639362e+19\n",
      "cycle 3, log-likelihood -4.022677754639362e+19\n",
      "cycle 4, log-likelihood -4.022677754639362e+19\n",
      "cycle 5, log-likelihood -4.022677754639362e+19\n",
      "cycle 6, log-likelihood -4.022677754639362e+19\n",
      "cycle 7, log-likelihood -4.022677754639362e+19\n",
      "cycle 8, log-likelihood -4.0226777546392895e+19\n",
      "cycle 9, log-likelihood -4.022677754637761e+19\n",
      "cycle 10, log-likelihood -4.0226777545971016e+19\n",
      "cycle 11, log-likelihood -4.022677753503979e+19\n",
      "cycle 12, log-likelihood -4.0226777241267315e+19\n",
      "cycle 13, log-likelihood -4.02267693461597e+19\n",
      "cycle 14, log-likelihood -4.0226557166668595e+19\n",
      "cycle 15, log-likelihood -4.022085541443818e+19\n",
      "cycle 16, log-likelihood -4.006801859964778e+19\n",
      "cycle 17, log-likelihood -3.623191373712531e+19\n",
      "cycle 18, log-likelihood -5.486751743585861e+18\n",
      "cycle 19, log-likelihood -3.409570655437062e+16\n",
      "cycle 20, log-likelihood -2139334346931850.5\n",
      "cycle 21, log-likelihood -586409914674557.8\n",
      "cycle 22, log-likelihood -288493552496587.75\n",
      "cycle 23, log-likelihood -182276119501117.38\n",
      "cycle 24, log-likelihood -130839087919236.66\n",
      "cycle 25, log-likelihood -101210958106440.12\n",
      "cycle 26, log-likelihood -82171763260008.77\n",
      "cycle 27, log-likelihood -68979157127602.19\n",
      "cycle 28, log-likelihood -58990508287116.34\n",
      "cycle 29, log-likelihood -42065343658205.66\n",
      "cycle 30, log-likelihood -675764098789.6217\n",
      "cycle 31, log-likelihood -2708302953.56067\n",
      "cycle 32, log-likelihood -7358145553.567346\n",
      "\tbreaking, LL=-7358145553.567346\n"
     ]
    }
   ],
   "source": [
    "model = FactorAnalyzer(n_factors=2)\n",
    "Lp, Pp = model.fit(X, verbose=True)"
   ]
  },
  {
   "cell_type": "markdown",
   "metadata": {},
   "source": [
    "### Plotting factor loading matrix elements for each latent variable"
   ]
  },
  {
   "cell_type": "code",
   "execution_count": 20,
   "metadata": {
    "collapsed": false
   },
   "outputs": [
    {
     "data": {
      "text/plain": [
       "([<matplotlib.lines.Line2D at 0x7f29d2b215f8>],\n",
       " [<matplotlib.lines.Line2D at 0x7f29d2ae9e48>])"
      ]
     },
     "execution_count": 20,
     "metadata": {},
     "output_type": "execute_result"
    },
    {
     "data": {
      "image/png": "[encoded data removed]",
      "text/plain": [
       "<matplotlib.figure.Figure at 0x7f29d2b212e8>"
      ]
     },
     "metadata": {},
     "output_type": "display_data"
    }
   ],
   "source": [
    "Lp0, Lp1 = Lp.T\n",
    "plt.plot(L0, 'b'), plt.plot(Lp0, 'b--')\n",
    "plt.plot(L1, 'g'), plt.plot(Lp1, 'g--')"
   ]
  },
  {
   "cell_type": "code",
   "execution_count": 16,
   "metadata": {
    "collapsed": false
   },
   "outputs": [
    {
     "name": "stdout",
     "output_type": "stream",
     "text": [
      "Noise Variances:\n",
      " [ 0.31404024  0.16590185  0.077017    0.04738554  0.07700964  0.16588722\n",
      "  0.31401865]\n"
     ]
    }
   ],
   "source": [
    "print(\"Noise Variances:\\n\", np.diag(Pp))"
   ]
  },
  {
   "cell_type": "code",
   "execution_count": null,
   "metadata": {
    "collapsed": true
   },
   "outputs": [],
   "source": []
  }
 ],
 "metadata": {
  "anaconda-cloud": {},
  "kernelspec": {
   "display_name": "Python [conda env:py35]",
   "language": "python",
   "name": "conda-env-py35-py"
  },
  "language_info": {
   "codemirror_mode": {
    "name": "ipython",
    "version": 3
   },
   "file_extension": ".py",
   "mimetype": "text/x-python",
   "name": "python",
   "nbconvert_exporter": "python",
   "pygments_lexer": "ipython3",
   "version": "3.5.2"
  }
 },
 "nbformat": 4,
 "nbformat_minor": 1
}
